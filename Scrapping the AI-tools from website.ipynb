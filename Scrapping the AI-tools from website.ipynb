{
 "cells": [
  {
   "cell_type": "code",
   "execution_count": 2,
   "id": "26709a6d",
   "metadata": {},
   "outputs": [
    {
     "name": "stdout",
     "output_type": "stream",
     "text": [
      "     Tool_name                                         Tool_URL  Tool_Price  \\\n",
      "0                                https://twitter.com/ToolsTopai  Free trial   \n",
      "1                               https://facebook.com/topaitools    Freemium   \n",
      "2                              https://instagram.com/topaitools    Freemium   \n",
      "3                  https://www.linkedin.com/company/topaitools/    Freemium   \n",
      "4                      https://www.helplook.net/?via=topaitools    Freemium   \n",
      "...        ...                                              ...         ...   \n",
      "4595            https://www.eraser.io/diagramgpt?via=topaitools               \n",
      "4596                 https://takethisandrun.com/?via=topaitools               \n",
      "4597               https://www.supremeplans.com/?via=topaitools               \n",
      "4598                         https://cookme.app/?via=topaitools               \n",
      "4599                             https://twitter.com/ToolsTopai               \n",
      "\n",
      "                                              Tool_Uses  \n",
      "0     Helplook is a powerful AI-based tool that allo...  \n",
      "1     Strat.chat is an AI-powered business strategy ...  \n",
      "2     Kitty Booth is an AI-powered app that allows y...  \n",
      "3     Mealplanner is an innovative AI-powered chat a...  \n",
      "4     The AI Store Manager is a powerful tool that u...  \n",
      "...                                                 ...  \n",
      "4595                                                     \n",
      "4596                                                     \n",
      "4597                                                     \n",
      "4598                                                     \n",
      "4599                                                     \n",
      "\n",
      "[4600 rows x 4 columns]\n",
      "Data is scrapped and stored in csv file\n"
     ]
    }
   ],
   "source": [
    "import re\n",
    "import requests\n",
    "from bs4 import BeautifulSoup\n",
    "import pandas as pd\n",
    "\n",
    "def scrape_page_data(url):\n",
    "    html = requests.get(url).text\n",
    "    soup = BeautifulSoup(html, 'lxml')\n",
    "\n",
    "    app = [i.text.strip().split(\"\\n\")[0] for i in soup.find_all('h5', class_=\"mt-3\")]\n",
    "    link = [i.get(\"href\") for i in soup.find_all(\"a\", attrs={\"href\": re.compile(\"^http\")})]\n",
    "    desc = [i.text for i in soup.find_all(\"p\", class_=\"my-1\")]\n",
    "    price = [i.text for i in soup.find_all(\"span\", class_=\"float-end\")]\n",
    "\n",
    "    max_length = max(len(app), len(link), len(desc), len(price))\n",
    "\n",
    "    # Perform padding to bring all arrays to the same length\n",
    "    app += [''] * (max_length - len(app))\n",
    "    link += [''] * (max_length - len(link))\n",
    "    desc += [''] * (max_length - len(desc))\n",
    "    price += [''] * (max_length - len(price))\n",
    "\n",
    "    return app, link, desc, price\n",
    "\n",
    "# Fetch the data from the first page\n",
    "url = \"https://topai.tools/browse\"\n",
    "total_pages = 200  # Specify the total number of pages to scrape (you can change this as needed)\n",
    "\n",
    "# Initialize lists to store data\n",
    "all_app = []\n",
    "all_link = []\n",
    "all_desc = []\n",
    "all_price = []\n",
    "\n",
    "# Loop through all pages and scrape data\n",
    "for page in range(1, total_pages + 1):\n",
    "    page_url = f\"{url}?page={page}\"\n",
    "    app, link, desc, price = scrape_page_data(page_url)\n",
    "\n",
    "    # Extend the lists with data from the current page\n",
    "    all_app.extend(app)\n",
    "    all_link.extend(link)\n",
    "    all_desc.extend(desc)\n",
    "    all_price.extend(price)\n",
    "\n",
    "df = pd.DataFrame({\n",
    "    \"Tool_name\": all_app,\n",
    "    \"Tool_URL\": all_link,\n",
    "    \"Tool_Price\": all_price,\n",
    "    \"Tool_Uses\": all_desc,\n",
    "})\n",
    "\n",
    "# Export the DataFrame to a CSV file named \"output.csv\"\n",
    "df.to_csv(\"output.csv\", index=False)\n",
    "\n",
    "# Display the DataFrame\n",
    "print(df)\n",
    "print('Data is scrapped and stored in csv file')"
   ]
  },
  {
   "cell_type": "code",
   "execution_count": 4,
   "id": "9d36c01f",
   "metadata": {},
   "outputs": [
    {
     "name": "stdout",
     "output_type": "stream",
     "text": [
      "Length of link: 23\n",
      "Length of desc: 23\n",
      "Length of price: 23\n"
     ]
    }
   ],
   "source": [
    "print(\"Length of link:\", len(link))\n",
    "print(\"Length of desc:\", len(desc))\n",
    "print(\"Length of price:\", len(price))"
   ]
  },
  {
   "cell_type": "code",
   "execution_count": null,
   "id": "0a8bddf7",
   "metadata": {},
   "outputs": [],
   "source": []
  }
 ],
 "metadata": {
  "kernelspec": {
   "display_name": "Python 3 (ipykernel)",
   "language": "python",
   "name": "python3"
  },
  "language_info": {
   "codemirror_mode": {
    "name": "ipython",
    "version": 3
   },
   "file_extension": ".py",
   "mimetype": "text/x-python",
   "name": "python",
   "nbconvert_exporter": "python",
   "pygments_lexer": "ipython3",
   "version": "3.9.12"
  }
 },
 "nbformat": 4,
 "nbformat_minor": 5
}
